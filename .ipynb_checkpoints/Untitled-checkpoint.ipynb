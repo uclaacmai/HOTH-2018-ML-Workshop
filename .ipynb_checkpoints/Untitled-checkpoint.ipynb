{
 "cells": [
  {
   "cell_type": "markdown",
   "metadata": {},
   "source": [
    "# Predicting Who Lives With Logistic Regression\n",
    "\n",
    "The sinking of the Titanic is one of the most well-known tragedies. Our goal is to use logistic regression to predict who survived based on data like gender, age, and social class.\n",
    "\n",
    "#### Some of the things you will learn\n",
    "\n",
    "* General architecture of a learning algorithm\n",
    "* initializing parameters\n",
    "* doing forward propogation\n",
    "* calculating the cost function\n",
    "* doing back propogation with gradient descent\n",
    "\n",
    "#### Instructions\n",
    "\n",
    "1. You will write your code between \n",
    "```python\n",
    "### START CODE HERE ###\n",
    "```\n",
    "```python \n",
    "### END CODE HERE ###\n",
    "```\n",
    "2. Do not use any loops unless explicitly told to do so"
   ]
  },
  {
   "cell_type": "markdown",
   "metadata": {},
   "source": [
    "## Packages\n",
    "\n",
    "First let's import some libraries"
   ]
  },
  {
   "cell_type": "code",
   "execution_count": null,
   "metadata": {
    "collapsed": true
   },
   "outputs": [],
   "source": []
  }
 ],
 "metadata": {
  "kernelspec": {
   "display_name": "Python 3",
   "language": "python",
   "name": "python3"
  },
  "language_info": {
   "codemirror_mode": {
    "name": "ipython",
    "version": 3
   },
   "file_extension": ".py",
   "mimetype": "text/x-python",
   "name": "python",
   "nbconvert_exporter": "python",
   "pygments_lexer": "ipython3",
   "version": "3.6.2"
  }
 },
 "nbformat": 4,
 "nbformat_minor": 2
}
